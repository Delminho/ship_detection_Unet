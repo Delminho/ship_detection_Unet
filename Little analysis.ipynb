{
 "cells": [
  {
   "cell_type": "code",
   "execution_count": 15,
   "id": "8267c2a3",
   "metadata": {},
   "outputs": [],
   "source": [
    "import matplotlib.pyplot as plt\n",
    "import pandas as pd\n",
    "import numpy as np"
   ]
  },
  {
   "cell_type": "code",
   "execution_count": 16,
   "id": "da9c4653",
   "metadata": {},
   "outputs": [],
   "source": [
    "df = pd.read_csv('train_ship_segmentations_v3.csv')\n",
    "df[\"EncodedPixels\"] += ' '\n"
   ]
  },
  {
   "cell_type": "code",
   "execution_count": 17,
   "id": "d9d5159f",
   "metadata": {},
   "outputs": [
    {
     "data": {
      "text/plain": [
       "<AxesSubplot:>"
      ]
     },
     "execution_count": 17,
     "metadata": {},
     "output_type": "execute_result"
    },
    {
     "data": {
      "image/png": "[encoded data removed]",
      "text/plain": [
       "<Figure size 432x288 with 1 Axes>"
      ]
     },
     "metadata": {
      "needs_background": "light"
     },
     "output_type": "display_data"
    }
   ],
   "source": [
    "df_by_ships = df.groupby(\"ImageId\", as_index=False).count()\n",
    "df_by_ships = df_by_ships.rename(columns={\"EncodedPixels\": \"Ships\", \"ImageId\": \"Images\"})\n",
    "df_by_ships[\"Ships\"].hist(bins=15)\n",
    "\n"
   ]
  },
  {
   "cell_type": "code",
   "execution_count": 18,
   "id": "f50f79d3",
   "metadata": {},
   "outputs": [
    {
     "name": "stdout",
     "output_type": "stream",
     "text": [
      "104983 29806\n"
     ]
    }
   ],
   "source": [
    "no_ships = len(df_by_ships.loc[df_by_ships[\"Ships\"] == 0])\n",
    "with_ships = len(df_by_ships) - no_ships\n",
    "print(no_ships, with_ships)"
   ]
  },
  {
   "cell_type": "markdown",
   "id": "4f70f691",
   "metadata": {},
   "source": [
    "We can see that the most images(78%) are without any ships so undersampling images without ships would be good idea"
   ]
  },
  {
   "cell_type": "code",
   "execution_count": 19,
   "id": "1d839e84",
   "metadata": {},
   "outputs": [],
   "source": [
    "def count_pixels_with_ships(s):\n",
    "    \"\"\"\n",
    "    Arguments:\n",
    "    s - string of Encoded Pixels\n",
    "    Returns:\n",
    "    pixels - amount of pixels that contain ship\n",
    "    \"\"\"\n",
    "    if pd.isna(s):\n",
    "        return 0\n",
    "    array = np.asarray([int(x) for x in s.split()])\n",
    "    pixels = sum(array[1::2])\n",
    "    return pixels"
   ]
  },
  {
   "cell_type": "code",
   "execution_count": 30,
   "id": "340502dc",
   "metadata": {},
   "outputs": [
    {
     "name": "stdout",
     "output_type": "stream",
     "text": [
      "0.11329706569478241 % of pixels contain ship\n"
     ]
    }
   ],
   "source": [
    "df_pixels = df['EncodedPixels'].map(count_pixels_with_ships)\n",
    "pixels_with_ships = sum(df_pixels.iloc)\n",
    "all_pixels = (no_ships+with_ships)*768*768\n",
    "print(pixels_with_ships/all_pixels*100, \"% of pixels contain ship\")"
   ]
  },
  {
   "cell_type": "markdown",
   "id": "4965535c",
   "metadata": {},
   "source": [
    "So $\\approx$ 99.89% pixels do not contain ship so we cannot rely on accuracy because if our network marks all pixels as \"no ship\" then it will be 99.89% accurate but that network will be completely useless. That's why we should use some other metrics like IoU or Dice score"
   ]
  }
 ],
 "metadata": {
  "kernelspec": {
   "display_name": "Python 3 (ipykernel)",
   "language": "python",
   "name": "python3"
  },
  "language_info": {
   "codemirror_mode": {
    "name": "ipython",
    "version": 3
   },
   "file_extension": ".py",
   "mimetype": "text/x-python",
   "name": "python",
   "nbconvert_exporter": "python",
   "pygments_lexer": "ipython3",
   "version": "3.8.10"
  }
 },
 "nbformat": 4,
 "nbformat_minor": 5
}
