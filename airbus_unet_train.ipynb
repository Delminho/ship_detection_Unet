{
  "cells": [
    {
      "cell_type": "code",
      "execution_count": 1,
      "metadata": {
        "id": "UbcMe2hzVFV1"
      },
      "outputs": [],
      "source": [
        "import tensorflow as tf\n",
        "import pandas as pd \n",
        "import numpy as np\n",
        "import cv2\n",
        "import matplotlib.pyplot as plt\n",
        "import os\n",
        "\n",
        "%matplotlib inline"
      ]
    },
    {
      "cell_type": "code",
      "execution_count": 2,
      "metadata": {
        "id": "E7dB7rgVjtbD"
      },
      "outputs": [],
      "source": [
        "#CONSTANTS\n",
        "IMAGE_SHAPE = (768, 768)\n",
        "MASKS, IMAGES = [], []\n",
        "path = ''\n",
        "IMAGE_PATH = os.path.join(path, '/content/Images/')\n",
        "IMAGES_LIST = os.listdir(IMAGE_PATH)\n",
        "IMAGES_LIST = sorted([IMAGE_PATH+i for i in IMAGES_LIST])"
      ]
    },
    {
      "cell_type": "code",
      "execution_count": 4,
      "metadata": {
        "id": "vL0968UyVK2Z",
        "colab": {
          "resources": {
            "http://localhost:8080/nbextensions/google.colab/files.js": {
              "data": "Ly8gQ29weXJpZ2h0IDIwMTcgR29vZ2xlIExMQwovLwovLyBMaWNlbnNlZCB1bmRlciB0aGUgQXBhY2hlIExpY2Vuc2UsIFZlcnNpb24gMi4wICh0aGUgIkxpY2Vuc2UiKTsKLy8geW91IG1heSBub3QgdXNlIHRoaXMgZmlsZSBleGNlcHQgaW4gY29tcGxpYW5jZSB3aXRoIHRoZSBMaWNlbnNlLgovLyBZb3UgbWF5IG9idGFpbiBhIGNvcHkgb2YgdGhlIExpY2Vuc2UgYXQKLy8KLy8gICAgICBodHRwOi8vd3d3LmFwYWNoZS5vcmcvbGljZW5zZXMvTElDRU5TRS0yLjAKLy8KLy8gVW5sZXNzIHJlcXVpcmVkIGJ5IGFwcGxpY2FibGUgbGF3IG9yIGFncmVlZCB0byBpbiB3cml0aW5nLCBzb2Z0d2FyZQovLyBkaXN0cmlidXRlZCB1bmRlciB0aGUgTGljZW5zZSBpcyBkaXN0cmlidXRlZCBvbiBhbiAiQVMgSVMiIEJBU0lTLAovLyBXSVRIT1VUIFdBUlJBTlRJRVMgT1IgQ09ORElUSU9OUyBPRiBBTlkgS0lORCwgZWl0aGVyIGV4cHJlc3Mgb3IgaW1wbGllZC4KLy8gU2VlIHRoZSBMaWNlbnNlIGZvciB0aGUgc3BlY2lmaWMgbGFuZ3VhZ2UgZ292ZXJuaW5nIHBlcm1pc3Npb25zIGFuZAovLyBsaW1pdGF0aW9ucyB1bmRlciB0aGUgTGljZW5zZS4KCi8qKgogKiBAZmlsZW92ZXJ2aWV3IEhlbHBlcnMgZm9yIGdvb2dsZS5jb2xhYiBQeXRob24gbW9kdWxlLgogKi8KKGZ1bmN0aW9uKHNjb3BlKSB7CmZ1bmN0aW9uIHNwYW4odGV4dCwgc3R5bGVBdHRyaWJ1dGVzID0ge30pIHsKICBjb25zdCBlbGVtZW50ID0gZG9jdW1lbnQuY3JlYXRlRWxlbWVudCgnc3BhbicpOwogIGVsZW1lbnQudGV4dENvbnRlbnQgPSB0ZXh0OwogIGZvciAoY29uc3Qga2V5IG9mIE9iamVjdC5rZXlzKHN0eWxlQXR0cmlidXRlcykpIHsKICAgIGVsZW1lbnQuc3R5bGVba2V5XSA9IHN0eWxlQXR0cmlidXRlc1trZXldOwogIH0KICByZXR1cm4gZWxlbWVudDsKfQoKLy8gTWF4IG51bWJlciBvZiBieXRlcyB3aGljaCB3aWxsIGJlIHVwbG9hZGVkIGF0IGEgdGltZS4KY29uc3QgTUFYX1BBWUxPQURfU0laRSA9IDEwMCAqIDEwMjQ7CgpmdW5jdGlvbiBfdXBsb2FkRmlsZXMoaW5wdXRJZCwgb3V0cHV0SWQpIHsKICBjb25zdCBzdGVwcyA9IHVwbG9hZEZpbGVzU3RlcChpbnB1dElkLCBvdXRwdXRJZCk7CiAgY29uc3Qgb3V0cHV0RWxlbWVudCA9IGRvY3VtZW50LmdldEVsZW1lbnRCeUlkKG91dHB1dElkKTsKICAvLyBDYWNoZSBzdGVwcyBvbiB0aGUgb3V0cHV0RWxlbWVudCB0byBtYWtlIGl0IGF2YWlsYWJsZSBmb3IgdGhlIG5leHQgY2FsbAogIC8vIHRvIHVwbG9hZEZpbGVzQ29udGludWUgZnJvbSBQeXRob24uCiAgb3V0cHV0RWxlbWVudC5zdGVwcyA9IHN0ZXBzOwoKICByZXR1cm4gX3VwbG9hZEZpbGVzQ29udGludWUob3V0cHV0SWQpOwp9CgovLyBUaGlzIGlzIHJvdWdobHkgYW4gYXN5bmMgZ2VuZXJhdG9yIChub3Qgc3VwcG9ydGVkIGluIHRoZSBicm93c2VyIHlldCksCi8vIHdoZXJlIHRoZXJlIGFyZSBtdWx0aXBsZSBhc3luY2hyb25vdXMgc3RlcHMgYW5kIHRoZSBQeXRob24gc2lkZSBpcyBnb2luZwovLyB0byBwb2xsIGZvciBjb21wbGV0aW9uIG9mIGVhY2ggc3RlcC4KLy8gVGhpcyB1c2VzIGEgUHJvbWlzZSB0byBibG9jayB0aGUgcHl0aG9uIHNpZGUgb24gY29tcGxldGlvbiBvZiBlYWNoIHN0ZXAsCi8vIHRoZW4gcGFzc2VzIHRoZSByZXN1bHQgb2YgdGhlIHByZXZpb3VzIHN0ZXAgYXMgdGhlIGlucHV0IHRvIHRoZSBuZXh0IHN0ZXAuCmZ1bmN0aW9uIF91cGxvYWRGaWxlc0NvbnRpbnVlKG91dHB1dElkKSB7CiAgY29uc3Qgb3V0cHV0RWxlbWVudCA9IGRvY3VtZW50LmdldEVsZW1lbnRCeUlkKG91dHB1dElkKTsKICBjb25zdCBzdGVwcyA9IG91dHB1dEVsZW1lbnQuc3RlcHM7CgogIGNvbnN0IG5leHQgPSBzdGVwcy5uZXh0KG91dHB1dEVsZW1lbnQubGFzdFByb21pc2VWYWx1ZSk7CiAgcmV0dXJuIFByb21pc2UucmVzb2x2ZShuZXh0LnZhbHVlLnByb21pc2UpLnRoZW4oKHZhbHVlKSA9PiB7CiAgICAvLyBDYWNoZSB0aGUgbGFzdCBwcm9taXNlIHZhbHVlIHRvIG1ha2UgaXQgYXZhaWxhYmxlIHRvIHRoZSBuZXh0CiAgICAvLyBzdGVwIG9mIHRoZSBnZW5lcmF0b3IuCiAgICBvdXRwdXRFbGVtZW50Lmxhc3RQcm9taXNlVmFsdWUgPSB2YWx1ZTsKICAgIHJldHVybiBuZXh0LnZhbHVlLnJlc3BvbnNlOwogIH0pOwp9CgovKioKICogR2VuZXJhdG9yIGZ1bmN0aW9uIHdoaWNoIGlzIGNhbGxlZCBiZXR3ZWVuIGVhY2ggYXN5bmMgc3RlcCBvZiB0aGUgdXBsb2FkCiAqIHByb2Nlc3MuCiAqIEBwYXJhbSB7c3RyaW5nfSBpbnB1dElkIEVsZW1lbnQgSUQgb2YgdGhlIGlucHV0IGZpbGUgcGlja2VyIGVsZW1lbnQuCiAqIEBwYXJhbSB7c3RyaW5nfSBvdXRwdXRJZCBFbGVtZW50IElEIG9mIHRoZSBvdXRwdXQgZGlzcGxheS4KICogQHJldHVybiB7IUl0ZXJhYmxlPCFPYmplY3Q+fSBJdGVyYWJsZSBvZiBuZXh0IHN0ZXBzLgogKi8KZnVuY3Rpb24qIHVwbG9hZEZpbGVzU3RlcChpbnB1dElkLCBvdXRwdXRJZCkgewogIGNvbnN0IGlucHV0RWxlbWVudCA9IGRvY3VtZW50LmdldEVsZW1lbnRCeUlkKGlucHV0SWQpOwogIGlucHV0RWxlbWVudC5kaXNhYmxlZCA9IGZhbHNlOwoKICBjb25zdCBvdXRwdXRFbGVtZW50ID0gZG9jdW1lbnQuZ2V0RWxlbWVudEJ5SWQob3V0cHV0SWQpOwogIG91dHB1dEVsZW1lbnQuaW5uZXJIVE1MID0gJyc7CgogIGNvbnN0IHBpY2tlZFByb21pc2UgPSBuZXcgUHJvbWlzZSgocmVzb2x2ZSkgPT4gewogICAgaW5wdXRFbGVtZW50LmFkZEV2ZW50TGlzdGVuZXIoJ2NoYW5nZScsIChlKSA9PiB7CiAgICAgIHJlc29sdmUoZS50YXJnZXQuZmlsZXMpOwogICAgfSk7CiAgfSk7CgogIGNvbnN0IGNhbmNlbCA9IGRvY3VtZW50LmNyZWF0ZUVsZW1lbnQoJ2J1dHRvbicpOwogIGlucHV0RWxlbWVudC5wYXJlbnRFbGVtZW50LmFwcGVuZENoaWxkKGNhbmNlbCk7CiAgY2FuY2VsLnRleHRDb250ZW50ID0gJ0NhbmNlbCB1cGxvYWQnOwogIGNvbnN0IGNhbmNlbFByb21pc2UgPSBuZXcgUHJvbWlzZSgocmVzb2x2ZSkgPT4gewogICAgY2FuY2VsLm9uY2xpY2sgPSAoKSA9PiB7CiAgICAgIHJlc29sdmUobnVsbCk7CiAgICB9OwogIH0pOwoKICAvLyBXYWl0IGZvciB0aGUgdXNlciB0byBwaWNrIHRoZSBmaWxlcy4KICBjb25zdCBmaWxlcyA9IHlpZWxkIHsKICAgIHByb21pc2U6IFByb21pc2UucmFjZShbcGlja2VkUHJvbWlzZSwgY2FuY2VsUHJvbWlzZV0pLAogICAgcmVzcG9uc2U6IHsKICAgICAgYWN0aW9uOiAnc3RhcnRpbmcnLAogICAgfQogIH07CgogIGNhbmNlbC5yZW1vdmUoKTsKCiAgLy8gRGlzYWJsZSB0aGUgaW5wdXQgZWxlbWVudCBzaW5jZSBmdXJ0aGVyIHBpY2tzIGFyZSBub3QgYWxsb3dlZC4KICBpbnB1dEVsZW1lbnQuZGlzYWJsZWQgPSB0cnVlOwoKICBpZiAoIWZpbGVzKSB7CiAgICByZXR1cm4gewogICAgICByZXNwb25zZTogewogICAgICAgIGFjdGlvbjogJ2NvbXBsZXRlJywKICAgICAgfQogICAgfTsKICB9CgogIGZvciAoY29uc3QgZmlsZSBvZiBmaWxlcykgewogICAgY29uc3QgbGkgPSBkb2N1bWVudC5jcmVhdGVFbGVtZW50KCdsaScpOwogICAgbGkuYXBwZW5kKHNwYW4oZmlsZS5uYW1lLCB7Zm9udFdlaWdodDogJ2JvbGQnfSkpOwogICAgbGkuYXBwZW5kKHNwYW4oCiAgICAgICAgYCgke2ZpbGUudHlwZSB8fCAnbi9hJ30pIC0gJHtmaWxlLnNpemV9IGJ5dGVzLCBgICsKICAgICAgICBgbGFzdCBtb2RpZmllZDogJHsKICAgICAgICAgICAgZmlsZS5sYXN0TW9kaWZpZWREYXRlID8gZmlsZS5sYXN0TW9kaWZpZWREYXRlLnRvTG9jYWxlRGF0ZVN0cmluZygpIDoKICAgICAgICAgICAgICAgICAgICAgICAgICAgICAgICAgICAgJ24vYSd9IC0gYCkpOwogICAgY29uc3QgcGVyY2VudCA9IHNwYW4oJzAlIGRvbmUnKTsKICAgIGxpLmFwcGVuZENoaWxkKHBlcmNlbnQpOwoKICAgIG91dHB1dEVsZW1lbnQuYXBwZW5kQ2hpbGQobGkpOwoKICAgIGNvbnN0IGZpbGVEYXRhUHJvbWlzZSA9IG5ldyBQcm9taXNlKChyZXNvbHZlKSA9PiB7CiAgICAgIGNvbnN0IHJlYWRlciA9IG5ldyBGaWxlUmVhZGVyKCk7CiAgICAgIHJlYWRlci5vbmxvYWQgPSAoZSkgPT4gewogICAgICAgIHJlc29sdmUoZS50YXJnZXQucmVzdWx0KTsKICAgICAgfTsKICAgICAgcmVhZGVyLnJlYWRBc0FycmF5QnVmZmVyKGZpbGUpOwogICAgfSk7CiAgICAvLyBXYWl0IGZvciB0aGUgZGF0YSB0byBiZSByZWFkeS4KICAgIGxldCBmaWxlRGF0YSA9IHlpZWxkIHsKICAgICAgcHJvbWlzZTogZmlsZURhdGFQcm9taXNlLAogICAgICByZXNwb25zZTogewogICAgICAgIGFjdGlvbjogJ2NvbnRpbnVlJywKICAgICAgfQogICAgfTsKCiAgICAvLyBVc2UgYSBjaHVua2VkIHNlbmRpbmcgdG8gYXZvaWQgbWVzc2FnZSBzaXplIGxpbWl0cy4gU2VlIGIvNjIxMTU2NjAuCiAgICBsZXQgcG9zaXRpb24gPSAwOwogICAgZG8gewogICAgICBjb25zdCBsZW5ndGggPSBNYXRoLm1pbihmaWxlRGF0YS5ieXRlTGVuZ3RoIC0gcG9zaXRpb24sIE1BWF9QQVlMT0FEX1NJWkUpOwogICAgICBjb25zdCBjaHVuayA9IG5ldyBVaW50OEFycmF5KGZpbGVEYXRhLCBwb3NpdGlvbiwgbGVuZ3RoKTsKICAgICAgcG9zaXRpb24gKz0gbGVuZ3RoOwoKICAgICAgY29uc3QgYmFzZTY0ID0gYnRvYShTdHJpbmcuZnJvbUNoYXJDb2RlLmFwcGx5KG51bGwsIGNodW5rKSk7CiAgICAgIHlpZWxkIHsKICAgICAgICByZXNwb25zZTogewogICAgICAgICAgYWN0aW9uOiAnYXBwZW5kJywKICAgICAgICAgIGZpbGU6IGZpbGUubmFtZSwKICAgICAgICAgIGRhdGE6IGJhc2U2NCwKICAgICAgICB9LAogICAgICB9OwoKICAgICAgbGV0IHBlcmNlbnREb25lID0gZmlsZURhdGEuYnl0ZUxlbmd0aCA9PT0gMCA/CiAgICAgICAgICAxMDAgOgogICAgICAgICAgTWF0aC5yb3VuZCgocG9zaXRpb24gLyBmaWxlRGF0YS5ieXRlTGVuZ3RoKSAqIDEwMCk7CiAgICAgIHBlcmNlbnQudGV4dENvbnRlbnQgPSBgJHtwZXJjZW50RG9uZX0lIGRvbmVgOwoKICAgIH0gd2hpbGUgKHBvc2l0aW9uIDwgZmlsZURhdGEuYnl0ZUxlbmd0aCk7CiAgfQoKICAvLyBBbGwgZG9uZS4KICB5aWVsZCB7CiAgICByZXNwb25zZTogewogICAgICBhY3Rpb246ICdjb21wbGV0ZScsCiAgICB9CiAgfTsKfQoKc2NvcGUuZ29vZ2xlID0gc2NvcGUuZ29vZ2xlIHx8IHt9OwpzY29wZS5nb29nbGUuY29sYWIgPSBzY29wZS5nb29nbGUuY29sYWIgfHwge307CnNjb3BlLmdvb2dsZS5jb2xhYi5fZmlsZXMgPSB7CiAgX3VwbG9hZEZpbGVzLAogIF91cGxvYWRGaWxlc0NvbnRpbnVlLAp9Owp9KShzZWxmKTsK",
              "ok": true,
              "headers": [
                [
                  "content-type",
                  "application/javascript"
                ]
              ],
              "status": 200,
              "status_text": ""
            }
          },
          "base_uri": "https://localhost:8080/",
          "height": 90
        },
        "outputId": "d5f4ff41-1567-4c4a-841b-bc1cb89955e2"
      },
      "outputs": [
        {
          "output_type": "display_data",
          "data": {
            "text/plain": [
              "<IPython.core.display.HTML object>"
            ],
            "text/html": [
              "\n",
              "     <input type=\"file\" id=\"files-c7319e5b-ed9f-4aa4-8de9-92499c62a92e\" name=\"files[]\" multiple disabled\n",
              "        style=\"border:none\" />\n",
              "     <output id=\"result-c7319e5b-ed9f-4aa4-8de9-92499c62a92e\">\n",
              "      Upload widget is only available when the cell has been executed in the\n",
              "      current browser session. Please rerun this cell to enable.\n",
              "      </output>\n",
              "      <script src=\"/nbextensions/google.colab/files.js\"></script> "
            ]
          },
          "metadata": {}
        },
        {
          "output_type": "stream",
          "name": "stdout",
          "text": [
            "Saving kaggle.json to kaggle.json\n"
          ]
        },
        {
          "output_type": "execute_result",
          "data": {
            "text/plain": [
              "{'kaggle.json': b'{\"username\":\"volodymyrromanovych\",\"key\":\"b70dec9c6634e5623401a05773bac828\"}'}"
            ]
          },
          "metadata": {},
          "execution_count": 4
        }
      ],
      "source": [
        "# Connecting to Kaggle API\n",
        "!pip install -q kaggle\n",
        "from google.colab import files\n",
        "files.upload()"
      ]
    },
    {
      "cell_type": "code",
      "execution_count": 5,
      "metadata": {
        "id": "sAaO4Pd6VOno",
        "colab": {
          "base_uri": "https://localhost:8080/"
        },
        "outputId": "ea1480e2-bb92-4655-c65b-acf58a633738"
      },
      "outputs": [
        {
          "output_type": "stream",
          "name": "stdout",
          "text": [
            "Downloading airbus-ship-detection-train-set-70.zip to /content\n",
            "100% 18.5G/18.5G [02:30<00:00, 157MB/s]\n",
            "100% 18.5G/18.5G [02:30<00:00, 132MB/s]\n"
          ]
        }
      ],
      "source": [
        "# Getting dataset from kaggle\n",
        "!mkdir ~/.kaggle\n",
        "!cp kaggle.json ~/.kaggle/\n",
        "!chmod 600 ~/.kaggle/kaggle.json\n",
        "!kaggle datasets download -d mikaelstrauhs/airbus-ship-detection-train-set-70"
      ]
    },
    {
      "cell_type": "code",
      "execution_count": null,
      "metadata": {
        "id": "qSjJ5sl5X1b6"
      },
      "outputs": [],
      "source": [
        "# Unzipping dataset\n",
        "!unzip airbus-ship-detection-train-set-70.zip\n",
        "!mv /content/train_v3/train_v3/Images /content/Images\n",
        "!rm -r /content/train_v3\n",
        "!rm /content/airbus-ship-detection-train-set-70.zip"
      ]
    },
    {
      "cell_type": "code",
      "execution_count": 3,
      "metadata": {
        "colab": {
          "base_uri": "https://localhost:8080/",
          "height": 424
        },
        "id": "j28O3fQLdD6H",
        "outputId": "d0815932-685c-4e4a-df29-fa6573ef2609"
      },
      "outputs": [
        {
          "output_type": "execute_result",
          "data": {
            "text/plain": [
              "              ImageId                                      EncodedPixels\n",
              "0       0001124c7.jpg                                                NaN\n",
              "1       000155de5.jpg  264661 17 265429 33 266197 33 266965 33 267733...\n",
              "2       000194a2d.jpg  360486 1 361252 4 362019 5 362785 8 363552 10 ...\n",
              "3       000194a2d.jpg  51834 9 52602 9 53370 9 54138 9 54906 9 55674 ...\n",
              "4       000194a2d.jpg  198320 10 199088 10 199856 10 200624 10 201392...\n",
              "...               ...                                                ...\n",
              "162086  fffedbb6b.jpg                                                NaN\n",
              "162087  ffff2aa57.jpg                                                NaN\n",
              "162088  ffff6e525.jpg                                                NaN\n",
              "162089  ffffc50b4.jpg                                                NaN\n",
              "162090  ffffe97f3.jpg                                                NaN\n",
              "\n",
              "[162091 rows x 2 columns]"
            ],
            "text/html": [
              "\n",
              "  <div id=\"df-64c6154c-bfe3-491f-8b21-cecc7af71667\">\n",
              "    <div class=\"colab-df-container\">\n",
              "      <div>\n",
              "<style scoped>\n",
              "    .dataframe tbody tr th:only-of-type {\n",
              "        vertical-align: middle;\n",
              "    }\n",
              "\n",
              "    .dataframe tbody tr th {\n",
              "        vertical-align: top;\n",
              "    }\n",
              "\n",
              "    .dataframe thead th {\n",
              "        text-align: right;\n",
              "    }\n",
              "</style>\n",
              "<table border=\"1\" class=\"dataframe\">\n",
              "  <thead>\n",
              "    <tr style=\"text-align: right;\">\n",
              "      <th></th>\n",
              "      <th>ImageId</th>\n",
              "      <th>EncodedPixels</th>\n",
              "    </tr>\n",
              "  </thead>\n",
              "  <tbody>\n",
              "    <tr>\n",
              "      <th>0</th>\n",
              "      <td>0001124c7.jpg</td>\n",
              "      <td>NaN</td>\n",
              "    </tr>\n",
              "    <tr>\n",
              "      <th>1</th>\n",
              "      <td>000155de5.jpg</td>\n",
              "      <td>264661 17 265429 33 266197 33 266965 33 267733...</td>\n",
              "    </tr>\n",
              "    <tr>\n",
              "      <th>2</th>\n",
              "      <td>000194a2d.jpg</td>\n",
              "      <td>360486 1 361252 4 362019 5 362785 8 363552 10 ...</td>\n",
              "    </tr>\n",
              "    <tr>\n",
              "      <th>3</th>\n",
              "      <td>000194a2d.jpg</td>\n",
              "      <td>51834 9 52602 9 53370 9 54138 9 54906 9 55674 ...</td>\n",
              "    </tr>\n",
              "    <tr>\n",
              "      <th>4</th>\n",
              "      <td>000194a2d.jpg</td>\n",
              "      <td>198320 10 199088 10 199856 10 200624 10 201392...</td>\n",
              "    </tr>\n",
              "    <tr>\n",
              "      <th>...</th>\n",
              "      <td>...</td>\n",
              "      <td>...</td>\n",
              "    </tr>\n",
              "    <tr>\n",
              "      <th>162086</th>\n",
              "      <td>fffedbb6b.jpg</td>\n",
              "      <td>NaN</td>\n",
              "    </tr>\n",
              "    <tr>\n",
              "      <th>162087</th>\n",
              "      <td>ffff2aa57.jpg</td>\n",
              "      <td>NaN</td>\n",
              "    </tr>\n",
              "    <tr>\n",
              "      <th>162088</th>\n",
              "      <td>ffff6e525.jpg</td>\n",
              "      <td>NaN</td>\n",
              "    </tr>\n",
              "    <tr>\n",
              "      <th>162089</th>\n",
              "      <td>ffffc50b4.jpg</td>\n",
              "      <td>NaN</td>\n",
              "    </tr>\n",
              "    <tr>\n",
              "      <th>162090</th>\n",
              "      <td>ffffe97f3.jpg</td>\n",
              "      <td>NaN</td>\n",
              "    </tr>\n",
              "  </tbody>\n",
              "</table>\n",
              "<p>162091 rows × 2 columns</p>\n",
              "</div>\n",
              "      <button class=\"colab-df-convert\" onclick=\"convertToInteractive('df-64c6154c-bfe3-491f-8b21-cecc7af71667')\"\n",
              "              title=\"Convert this dataframe to an interactive table.\"\n",
              "              style=\"display:none;\">\n",
              "        \n",
              "  <svg xmlns=\"http://www.w3.org/2000/svg\" height=\"24px\"viewBox=\"0 0 24 24\"\n",
              "       width=\"24px\">\n",
              "    <path d=\"M0 0h24v24H0V0z\" fill=\"none\"/>\n",
              "    <path d=\"M18.56 5.44l.94 2.06.94-2.06 2.06-.94-2.06-.94-.94-2.06-.94 2.06-2.06.94zm-11 1L8.5 8.5l.94-2.06 2.06-.94-2.06-.94L8.5 2.5l-.94 2.06-2.06.94zm10 10l.94 2.06.94-2.06 2.06-.94-2.06-.94-.94-2.06-.94 2.06-2.06.94z\"/><path d=\"M17.41 7.96l-1.37-1.37c-.4-.4-.92-.59-1.43-.59-.52 0-1.04.2-1.43.59L10.3 9.45l-7.72 7.72c-.78.78-.78 2.05 0 2.83L4 21.41c.39.39.9.59 1.41.59.51 0 1.02-.2 1.41-.59l7.78-7.78 2.81-2.81c.8-.78.8-2.07 0-2.86zM5.41 20L4 18.59l7.72-7.72 1.47 1.35L5.41 20z\"/>\n",
              "  </svg>\n",
              "      </button>\n",
              "      \n",
              "  <style>\n",
              "    .colab-df-container {\n",
              "      display:flex;\n",
              "      flex-wrap:wrap;\n",
              "      gap: 12px;\n",
              "    }\n",
              "\n",
              "    .colab-df-convert {\n",
              "      background-color: #E8F0FE;\n",
              "      border: none;\n",
              "      border-radius: 50%;\n",
              "      cursor: pointer;\n",
              "      display: none;\n",
              "      fill: #1967D2;\n",
              "      height: 32px;\n",
              "      padding: 0 0 0 0;\n",
              "      width: 32px;\n",
              "    }\n",
              "\n",
              "    .colab-df-convert:hover {\n",
              "      background-color: #E2EBFA;\n",
              "      box-shadow: 0px 1px 2px rgba(60, 64, 67, 0.3), 0px 1px 3px 1px rgba(60, 64, 67, 0.15);\n",
              "      fill: #174EA6;\n",
              "    }\n",
              "\n",
              "    [theme=dark] .colab-df-convert {\n",
              "      background-color: #3B4455;\n",
              "      fill: #D2E3FC;\n",
              "    }\n",
              "\n",
              "    [theme=dark] .colab-df-convert:hover {\n",
              "      background-color: #434B5C;\n",
              "      box-shadow: 0px 1px 3px 1px rgba(0, 0, 0, 0.15);\n",
              "      filter: drop-shadow(0px 1px 2px rgba(0, 0, 0, 0.3));\n",
              "      fill: #FFFFFF;\n",
              "    }\n",
              "  </style>\n",
              "\n",
              "      <script>\n",
              "        const buttonEl =\n",
              "          document.querySelector('#df-64c6154c-bfe3-491f-8b21-cecc7af71667 button.colab-df-convert');\n",
              "        buttonEl.style.display =\n",
              "          google.colab.kernel.accessAllowed ? 'block' : 'none';\n",
              "\n",
              "        async function convertToInteractive(key) {\n",
              "          const element = document.querySelector('#df-64c6154c-bfe3-491f-8b21-cecc7af71667');\n",
              "          const dataTable =\n",
              "            await google.colab.kernel.invokeFunction('convertToInteractive',\n",
              "                                                     [key], {});\n",
              "          if (!dataTable) return;\n",
              "\n",
              "          const docLinkHtml = 'Like what you see? Visit the ' +\n",
              "            '<a target=\"_blank\" href=https://colab.research.google.com/notebooks/data_table.ipynb>data table notebook</a>'\n",
              "            + ' to learn more about interactive tables.';\n",
              "          element.innerHTML = '';\n",
              "          dataTable['output_type'] = 'display_data';\n",
              "          await google.colab.output.renderOutput(dataTable, element);\n",
              "          const docLink = document.createElement('div');\n",
              "          docLink.innerHTML = docLinkHtml;\n",
              "          element.appendChild(docLink);\n",
              "        }\n",
              "      </script>\n",
              "    </div>\n",
              "  </div>\n",
              "  "
            ]
          },
          "metadata": {},
          "execution_count": 3
        }
      ],
      "source": [
        "df = pd.read_csv('/content/train_ship_segmentations_v3.csv')\n",
        "df"
      ]
    },
    {
      "cell_type": "markdown",
      "source": [
        "We can see that we have a folder with input images and csv file with corresponding EncodedPixels for each ship.\n",
        "Firstly let's make masks from the Encoded Pixels of ships "
      ],
      "metadata": {
        "id": "OTgvlWnaYm9s"
      }
    },
    {
      "cell_type": "code",
      "execution_count": 4,
      "metadata": {
        "id": "4wyMwZh5r4Z1"
      },
      "outputs": [],
      "source": [
        "# Making each image have coordinates of all its ships in EncodedPixels(right now each ship is new row)\n",
        "df['EncodedPixels'] += ' ' \n",
        "df = df.groupby(['ImageId']).sum()\n",
        "df['EncodedPixels'] = df['EncodedPixels'].replace(0, '')"
      ]
    },
    {
      "cell_type": "code",
      "execution_count": 5,
      "metadata": {
        "id": "qepntgOJ2N53"
      },
      "outputs": [],
      "source": [
        "def rle_to_mask(rle):\n",
        "  \"\"\"\n",
        "  Generating masks from Encoded Pixels\n",
        "\n",
        "  Arguments:\n",
        "  string representation of Encoded Pixels\n",
        "\n",
        "  Returns:\n",
        "  (768,768,1) np.ndarray representation of a mask\n",
        "  \"\"\"\n",
        "  shape_x = IMAGE_SHAPE[0]\n",
        "  shape_y = IMAGE_SHAPE[1]\n",
        "  if rle == '':\n",
        "    return np.zeros((shape_x, shape_y, 1), dtype=np.float32)\n",
        "    \n",
        "  else:\n",
        "    mask=np.zeros(shape_x*shape_y, dtype=np.float32)\n",
        "    array = np.asarray([int(x) for x in rle.split()])\n",
        "    starts = array[::2]\n",
        "    lengths = array[1::2]\n",
        "\n",
        "    current_position = 0\n",
        "    for index, start in enumerate(starts):\n",
        "        mask[int(start):int(start+lengths[index])] = 1\n",
        "        current_position += lengths[index]\n",
        "    return np.flipud(np.rot90(mask.reshape(shape_y, shape_x, 1),k=1))\n",
        "    "
      ]
    },
    {
      "cell_type": "markdown",
      "source": [
        "Now let's make a tensorflow dataset for all (image, mask) pairs of training set"
      ],
      "metadata": {
        "id": "0euQZk2cZRSQ"
      }
    },
    {
      "cell_type": "code",
      "source": [
        "def image_mask_gen():\n",
        "  \"\"\"\n",
        "  Generator for a (image, mask) set item\n",
        "\n",
        "  Reads image from images folder and converts it to a normalized tensor\n",
        "  Gets Encoded Pixels for the corresponding image from csv file and converts it to a mask\n",
        "  Warning: Make sure IMAGES_LIST is sorted the same way as the csv file\n",
        "  \"\"\"\n",
        "  length = len(df)\n",
        "  for i in range(length):\n",
        "    img = tf.io.read_file(IMAGES_LIST[i])\n",
        "    img = tf.image.decode_jpeg(img, channels=3)\n",
        "    img = tf.image.convert_image_dtype(img, tf.float32)\n",
        "    \n",
        "    mask = rle_to_mask(df['EncodedPixels'].iloc[i])\n",
        "    yield img, tf.cast(mask, dtype=tf.float32)\n",
        "\n",
        "\n",
        "training=tf.data.Dataset.from_generator(image_mask_gen, output_types=(tf.float32, tf.float32), output_shapes=([768,768,3], [768,768,1]))"
      ],
      "metadata": {
        "id": "mH0Yyda9mPw5"
      },
      "execution_count": 14,
      "outputs": []
    },
    {
      "cell_type": "markdown",
      "source": [
        "And now let's build our model. Since the task is semantic segmetation, we are going to use Unet. And for this task Cross Entropy Loss doesn't work very well, so we are going to use dice score loss function."
      ],
      "metadata": {
        "id": "XOjI0aBAZk4W"
      }
    },
    {
      "cell_type": "code",
      "source": [
        "def conv_block(inputs=None, n_filters=32, dropout_prob=0, max_pooling=True):\n",
        "    \"\"\"\n",
        "    Convolutional downsampling block\n",
        "    \n",
        "    Arguments:\n",
        "        inputs -- Input tensor\n",
        "        n_filters -- Number of filters for the convolutional layers\n",
        "        dropout_prob -- Dropout probability\n",
        "        max_pooling -- Use MaxPooling2D to reduce the spatial dimensions of the output volume\n",
        "    Returns: \n",
        "        next_layer, skip_connection --  Next layer and skip connection outputs\n",
        "    \"\"\"\n",
        "\n",
        "    conv = tf.keras.layers.Conv2D(n_filters, # Number of filters\n",
        "                  kernel_size=(3,3),   # Kernel size   \n",
        "                  activation='relu',\n",
        "                  padding='same',\n",
        "                  kernel_initializer='he_normal')(inputs)\n",
        "    conv = tf.keras.layers.Conv2D(n_filters, # Number of filters\n",
        "                  kernel_size=(3,3),   # Kernel size\n",
        "                  activation='relu',\n",
        "                  padding='same',\n",
        "                  kernel_initializer='he_normal')(conv)\n",
        "    # If dropout_porb is not 0 using a Dropout layer\n",
        "    if dropout_prob > 0:\n",
        "        conv = tf.keras.layers.Dropout(dropout_prob)(conv)\n",
        "         \n",
        "        \n",
        "    # if max_pooling is True add a MaxPooling2D with 2x2 pool_size\n",
        "    if max_pooling:\n",
        "        next_layer = tf.keras.layers.MaxPool2D()(conv)\n",
        "        \n",
        "    else:\n",
        "        next_layer = conv\n",
        "        \n",
        "    skip_connection = conv\n",
        "    \n",
        "    return next_layer, skip_connection\n",
        "\n",
        "\n",
        "def upsampling_block(prev_input, skipped_input, n_filters=32):\n",
        "    \"\"\"\n",
        "    Convolutional upsampling block\n",
        "    \n",
        "    Arguments:\n",
        "        prev_input -- Input tensor from previous layer\n",
        "        skipped_input -- Input tensor from previous skip layer\n",
        "        n_filters -- Number of filters for the convolutional layers\n",
        "    Returns: \n",
        "        conv -- Tensor output\n",
        "    \"\"\"\n",
        "\n",
        "    up = tf.keras.layers.Conv2DTranspose(n_filters, kernel_size=(3,3),\n",
        "                                         strides=(2,2),\n",
        "                                         padding='same')(prev_input)\n",
        "    \n",
        "    # Merge the previous output and the skipped_input\n",
        "    merge = tf.keras.layers.concatenate([up, skipped_input], axis=3)\n",
        "    \n",
        "    conv = tf.keras.layers.Conv2D(n_filters, kernel_size=(3,3), \n",
        "                                  activation='relu',padding='same',\n",
        "                                  kernel_initializer='he_normal')(merge)\n",
        "    conv = tf.keras.layers.Conv2D(n_filters, kernel_size=(3,3),\n",
        "                                  activation='relu', padding='same',\n",
        "                                  kernel_initializer='he_normal')(conv)\n",
        "\n",
        "    return conv\n",
        "\n",
        "\n",
        "def unet_model(input_size=(IMAGE_SHAPE[0], IMAGE_SHAPE[1], 3), n_filters=32, n_classes=1):\n",
        "    \"\"\"\n",
        "    Unet model\n",
        "    \n",
        "    Arguments:\n",
        "        input_size -- Input shape \n",
        "        n_filters -- Number of filters for the convolutional layers\n",
        "        n_classes -- Number of output classes\n",
        "    Returns: \n",
        "        model -- tf.keras.Model\n",
        "    \"\"\"\n",
        "    inputs = tf.keras.layers.Input(input_size)\n",
        "    # Encoding\n",
        "    cblock1 = conv_block(inputs, n_filters)\n",
        "    cblock2 = conv_block(cblock1[0], n_filters*2)\n",
        "    cblock3 = conv_block(cblock2[0], n_filters*4)\n",
        "    cblock4 = conv_block(cblock3[0], n_filters*8, max_pooling=False)\n",
        "\n",
        "    # Decoding\n",
        "    ublock6 = upsampling_block(cblock4[0], cblock3[1],  n_filters*4)\n",
        "    ublock7 = upsampling_block(ublock6, cblock2[1],  n_filters*2)\n",
        "    ublock8 = upsampling_block(ublock7, cblock1[1],  n_filters)\n",
        "\n",
        "    conv9 = tf.keras.layers.Conv2D(n_filters,\n",
        "                 3,\n",
        "                 activation='relu',\n",
        "                 padding='same',\n",
        "                 kernel_initializer='he_normal')(ublock8)\n",
        "\n",
        "    # Output Conv2D layer with n_classes filter, kernel size of 1 and a 'same' padding\n",
        "    conv10 = tf.keras.layers.Conv2D(n_classes, (1,1), padding='same')(conv9)\n",
        "\n",
        "    \n",
        "    model = tf.keras.Model(inputs=inputs, outputs=conv10)\n",
        "\n",
        "    return model\n",
        "\n",
        "\n",
        "def dice_score_loss(y_true, y_pred, smooth=1):\n",
        "    \"\"\"\n",
        "    Loss function using Dice score\n",
        "    \"\"\"  \n",
        "    y_true_f = tf.keras.backend.flatten(y_true)\n",
        "    y_pred_f = tf.keras.backend.flatten(y_pred)\n",
        "    intersection = tf.keras.backend.sum(y_true_f * y_pred_f)\n",
        "    dice = (2. * intersection + smooth) / (tf.keras.backend.sum(y_true_f) + tf.keras.backend.sum(y_pred_f) + smooth)\n",
        "    return 1 - dice"
      ],
      "metadata": {
        "id": "d_D0zgulnX8U"
      },
      "execution_count": 7,
      "outputs": []
    },
    {
      "cell_type": "code",
      "source": [
        "unet = unet_model()"
      ],
      "metadata": {
        "id": "vaAVVyUk8OfL"
      },
      "execution_count": 15,
      "outputs": []
    },
    {
      "cell_type": "code",
      "source": [
        "unet.summary()"
      ],
      "metadata": {
        "colab": {
          "base_uri": "https://localhost:8080/"
        },
        "id": "hz6itMUT8Pnw",
        "outputId": "1aaed3fc-4515-472e-b981-183e8db030c4"
      },
      "execution_count": 16,
      "outputs": [
        {
          "output_type": "stream",
          "name": "stdout",
          "text": [
            "Model: \"model_1\"\n",
            "__________________________________________________________________________________________________\n",
            " Layer (type)                   Output Shape         Param #     Connected to                     \n",
            "==================================================================================================\n",
            " input_2 (InputLayer)           [(None, 768, 768, 3  0           []                               \n",
            "                                )]                                                                \n",
            "                                                                                                  \n",
            " conv2d_16 (Conv2D)             (None, 768, 768, 32  896         ['input_2[0][0]']                \n",
            "                                )                                                                 \n",
            "                                                                                                  \n",
            " conv2d_17 (Conv2D)             (None, 768, 768, 32  9248        ['conv2d_16[0][0]']              \n",
            "                                )                                                                 \n",
            "                                                                                                  \n",
            " max_pooling2d_3 (MaxPooling2D)  (None, 384, 384, 32  0          ['conv2d_17[0][0]']              \n",
            "                                )                                                                 \n",
            "                                                                                                  \n",
            " conv2d_18 (Conv2D)             (None, 384, 384, 64  18496       ['max_pooling2d_3[0][0]']        \n",
            "                                )                                                                 \n",
            "                                                                                                  \n",
            " conv2d_19 (Conv2D)             (None, 384, 384, 64  36928       ['conv2d_18[0][0]']              \n",
            "                                )                                                                 \n",
            "                                                                                                  \n",
            " max_pooling2d_4 (MaxPooling2D)  (None, 192, 192, 64  0          ['conv2d_19[0][0]']              \n",
            "                                )                                                                 \n",
            "                                                                                                  \n",
            " conv2d_20 (Conv2D)             (None, 192, 192, 12  73856       ['max_pooling2d_4[0][0]']        \n",
            "                                8)                                                                \n",
            "                                                                                                  \n",
            " conv2d_21 (Conv2D)             (None, 192, 192, 12  147584      ['conv2d_20[0][0]']              \n",
            "                                8)                                                                \n",
            "                                                                                                  \n",
            " max_pooling2d_5 (MaxPooling2D)  (None, 96, 96, 128)  0          ['conv2d_21[0][0]']              \n",
            "                                                                                                  \n",
            " conv2d_22 (Conv2D)             (None, 96, 96, 256)  295168      ['max_pooling2d_5[0][0]']        \n",
            "                                                                                                  \n",
            " conv2d_23 (Conv2D)             (None, 96, 96, 256)  590080      ['conv2d_22[0][0]']              \n",
            "                                                                                                  \n",
            " conv2d_transpose_3 (Conv2DTran  (None, 192, 192, 12  295040     ['conv2d_23[0][0]']              \n",
            " spose)                         8)                                                                \n",
            "                                                                                                  \n",
            " concatenate_3 (Concatenate)    (None, 192, 192, 25  0           ['conv2d_transpose_3[0][0]',     \n",
            "                                6)                                'conv2d_21[0][0]']              \n",
            "                                                                                                  \n",
            " conv2d_24 (Conv2D)             (None, 192, 192, 12  295040      ['concatenate_3[0][0]']          \n",
            "                                8)                                                                \n",
            "                                                                                                  \n",
            " conv2d_25 (Conv2D)             (None, 192, 192, 12  147584      ['conv2d_24[0][0]']              \n",
            "                                8)                                                                \n",
            "                                                                                                  \n",
            " conv2d_transpose_4 (Conv2DTran  (None, 384, 384, 64  73792      ['conv2d_25[0][0]']              \n",
            " spose)                         )                                                                 \n",
            "                                                                                                  \n",
            " concatenate_4 (Concatenate)    (None, 384, 384, 12  0           ['conv2d_transpose_4[0][0]',     \n",
            "                                8)                                'conv2d_19[0][0]']              \n",
            "                                                                                                  \n",
            " conv2d_26 (Conv2D)             (None, 384, 384, 64  73792       ['concatenate_4[0][0]']          \n",
            "                                )                                                                 \n",
            "                                                                                                  \n",
            " conv2d_27 (Conv2D)             (None, 384, 384, 64  36928       ['conv2d_26[0][0]']              \n",
            "                                )                                                                 \n",
            "                                                                                                  \n",
            " conv2d_transpose_5 (Conv2DTran  (None, 768, 768, 32  18464      ['conv2d_27[0][0]']              \n",
            " spose)                         )                                                                 \n",
            "                                                                                                  \n",
            " concatenate_5 (Concatenate)    (None, 768, 768, 64  0           ['conv2d_transpose_5[0][0]',     \n",
            "                                )                                 'conv2d_17[0][0]']              \n",
            "                                                                                                  \n",
            " conv2d_28 (Conv2D)             (None, 768, 768, 32  18464       ['concatenate_5[0][0]']          \n",
            "                                )                                                                 \n",
            "                                                                                                  \n",
            " conv2d_29 (Conv2D)             (None, 768, 768, 32  9248        ['conv2d_28[0][0]']              \n",
            "                                )                                                                 \n",
            "                                                                                                  \n",
            " conv2d_30 (Conv2D)             (None, 768, 768, 32  9248        ['conv2d_29[0][0]']              \n",
            "                                )                                                                 \n",
            "                                                                                                  \n",
            " conv2d_31 (Conv2D)             (None, 768, 768, 1)  33          ['conv2d_30[0][0]']              \n",
            "                                                                                                  \n",
            "==================================================================================================\n",
            "Total params: 2,149,889\n",
            "Trainable params: 2,149,889\n",
            "Non-trainable params: 0\n",
            "__________________________________________________________________________________________________\n"
          ]
        }
      ]
    },
    {
      "cell_type": "code",
      "source": [
        ""
      ],
      "metadata": {
        "id": "Ke2545dZ-G5m"
      },
      "execution_count": 16,
      "outputs": []
    },
    {
      "cell_type": "code",
      "source": [
        "unet.compile(optimizer='adam',\n",
        "              loss=dice_score_loss,\n",
        "              metrics=([tf.keras.metrics.BinaryIoU()]))"
      ],
      "metadata": {
        "id": "YW91ZrBP8pxD"
      },
      "execution_count": 17,
      "outputs": []
    },
    {
      "cell_type": "code",
      "source": [
        "EPOCHS = 10\n",
        "BATCH_SIZE = 16\n",
        "train_dataset = training.cache().batch(BATCH_SIZE)\n",
        "print(training.element_spec)\n",
        "model_history = unet.fit(train_dataset, epochs=EPOCHS)"
      ],
      "metadata": {
        "colab": {
          "base_uri": "https://localhost:8080/"
        },
        "id": "ughPPR5O-oMI",
        "outputId": "70ced1bb-ab26-4af3-d33e-279a6f92657e"
      },
      "execution_count": null,
      "outputs": [
        {
          "output_type": "stream",
          "name": "stdout",
          "text": [
            "(TensorSpec(shape=(768, 768, 3), dtype=tf.float32, name=None), TensorSpec(shape=(768, 768, 1), dtype=tf.float32, name=None))\n",
            "Epoch 1/10\n"
          ]
        }
      ]
    },
    {
      "cell_type": "markdown",
      "source": [
        "Unfortunately our training crushes due to lack of RAM unless there is really small dataset size, so we can't train our model properly :'("
      ],
      "metadata": {
        "id": "W8DFArj7bNR7"
      }
    },
    {
      "cell_type": "code",
      "source": [
        ""
      ],
      "metadata": {
        "id": "FnMZnjJATmul"
      },
      "execution_count": null,
      "outputs": []
    }
  ],
  "metadata": {
    "colab": {
      "collapsed_sections": [],
      "name": "airbus_detection_train.ipynb",
      "provenance": []
    },
    "kernelspec": {
      "display_name": "Python 3",
      "name": "python3"
    },
    "language_info": {
      "name": "python"
    }
  },
  "nbformat": 4,
  "nbformat_minor": 0
}